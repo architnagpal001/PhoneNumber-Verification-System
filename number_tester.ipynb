{
 "cells": [
  {
   "cell_type": "code",
   "execution_count": 1,
   "id": "6924518c",
   "metadata": {},
   "outputs": [
    {
     "name": "stdout",
     "output_type": "stream",
     "text": [
      "Requirement already satisfied: phonenumbers in c:\\users\\archi\\anaconda3\\lib\\site-packages (8.12.36)\n",
      "Note: you may need to restart the kernel to use updated packages.\n"
     ]
    }
   ],
   "source": [
    "pip install phonenumbers"
   ]
  },
  {
   "cell_type": "code",
   "execution_count": 1,
   "id": "c1dfe694",
   "metadata": {},
   "outputs": [
    {
     "name": "stdout",
     "output_type": "stream",
     "text": [
      "Mobile no. with country code:+1 (647) 556-9066\n",
      "('America/Toronto',)\n",
      "\n",
      "Ontario\n",
      "Valid Mobile Number: True\n",
      "Checking possibility of Number: True\n"
     ]
    }
   ],
   "source": [
    "import phonenumbers\n",
    "from phonenumbers import carrier, geocoder, timezone\n",
    "\n",
    "mobileNo=input(\"Mobile no. with country code:\")\n",
    "mobileNo=phonenumbers.parse(mobileNo)\n",
    "print(timezone.time_zones_for_number(mobileNo))\n",
    "print(carrier.name_for_number(mobileNo,\"en\"))\n",
    "print(geocoder.description_for_number(mobileNo,\"en\"))\n",
    "print(\"Valid Mobile Number:\",phonenumbers.is_valid_number(mobileNo))\n",
    "print(\"Checking possibility of Number:\",phonenumbers.is_possible_number(mobileNo))"
   ]
  },
  {
   "cell_type": "code",
   "execution_count": null,
   "id": "d7c5583a",
   "metadata": {},
   "outputs": [],
   "source": []
  }
 ],
 "metadata": {
  "kernelspec": {
   "display_name": "Python 3",
   "language": "python",
   "name": "python3"
  },
  "language_info": {
   "codemirror_mode": {
    "name": "ipython",
    "version": 3
   },
   "file_extension": ".py",
   "mimetype": "text/x-python",
   "name": "python",
   "nbconvert_exporter": "python",
   "pygments_lexer": "ipython3",
   "version": "3.8.8"
  }
 },
 "nbformat": 4,
 "nbformat_minor": 5
}
